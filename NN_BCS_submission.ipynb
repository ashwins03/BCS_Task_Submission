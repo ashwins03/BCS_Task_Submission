{
  "nbformat": 4,
  "nbformat_minor": 0,
  "metadata": {
    "colab": {
      "name": "NN_BCS_submission.ipynb",
      "provenance": []
    },
    "kernelspec": {
      "name": "python3",
      "display_name": "Python 3"
    },
    "language_info": {
      "name": "python"
    }
  },
  "cells": [
    {
      "cell_type": "code",
      "source": [
        "import numpy as np"
      ],
      "metadata": {
        "id": "UoUUcfwE4x4G"
      },
      "execution_count": 62,
      "outputs": []
    },
    {
      "cell_type": "code",
      "source": [
        "#training set\n",
        "train_X = np.array(([3,5], [5,1], [10,2]), dtype=float)\n",
        "train_X=train_X/np.amax(train_X,axis=0)\n",
        "train_y = np.array(([.75], [.82], [.93]), dtype=float)"
      ],
      "metadata": {
        "id": "wvXBg9ZV9d9G"
      },
      "execution_count": 49,
      "outputs": []
    },
    {
      "cell_type": "code",
      "execution_count": 50,
      "metadata": {
        "id": "o4x4MlSM6z5N"
      },
      "outputs": [],
      "source": [
        "#assigning shape to X and y\n",
        "def shape(X,y):\n",
        "  nh=np.shape(y)[0]\n",
        "  nx=np.shape(X)[1]\n",
        "  ny=np.shape(y)[1]\n",
        "  return nx,nh,ny"
      ]
    },
    {
      "cell_type": "code",
      "source": [
        "#activation function\n",
        "def sigmoid(z):\n",
        "  return 1/(1+np.exp(-z)) "
      ],
      "metadata": {
        "id": "wqa6jrEx7CjD"
      },
      "execution_count": 51,
      "outputs": []
    },
    {
      "cell_type": "code",
      "source": [
        "#creating weights\n",
        "def weights(nx,nh,ny):\n",
        "  W1=np.random.randn(nx,nh)\n",
        "  W2=np.random.randn(nh,ny)\n",
        "  assert(W1.shape == (nx,nh))\n",
        "  assert(W2.shape == (nh,ny))\n",
        "  return W1,W2"
      ],
      "metadata": {
        "id": "62fa4c7mAyve"
      },
      "execution_count": 52,
      "outputs": []
    },
    {
      "cell_type": "code",
      "source": [
        "#forward propogation\n",
        "def forward(X,W1,W2):\n",
        "  z2=np.dot(X,W1)\n",
        "  a2=sigmoid(z2)\n",
        "  z3=np.dot(a2,W2)\n",
        "  yh=sigmoid(z3)\n",
        "  return yh,a2,z3,z2"
      ],
      "metadata": {
        "id": "lhInOxJTBLZE"
      },
      "execution_count": 53,
      "outputs": []
    },
    {
      "cell_type": "code",
      "source": [
        "#finding cost (error) between target(y) and predicted target(yh)\n",
        "def cost(yh,y,a2):\n",
        "  j=0.5*np.sum((y-yh)**2)\n",
        "  return j\n",
        "#finding derivative of activation (sigmoid) function\n",
        "def sigmoid_prime(z):\n",
        "  return np.exp(-z)/((1+np.exp(-z))**2)\n",
        "#backward propogation \n",
        "def cost_prime(yh,X,y,a2,z3,z2,W2):\n",
        "  dz3 = np.multiply(-(y-yh),sigmoid_prime(z3))\n",
        "  dW2 = np.dot(a2.T, dz3)     \n",
        "  dz2 = np.dot(dz3, W2.T)*sigmoid_prime(z2)\n",
        "  dW1 = np.dot(X.T, dz2)  \n",
        "  return dW1,dW2 "
      ],
      "metadata": {
        "id": "HkGrfxO6hak1"
      },
      "execution_count": 54,
      "outputs": []
    },
    {
      "cell_type": "code",
      "source": [
        "#updating features\n",
        "def update_features(W1,W2,dW1,dW2,learning_rate):\n",
        "  a=learning_rate\n",
        "  W1-=a*dW1\n",
        "  W2-=a*dW2\n",
        "  return W1,W2"
      ],
      "metadata": {
        "id": "PwDbtkZ8t_H0"
      },
      "execution_count": 55,
      "outputs": []
    },
    {
      "cell_type": "code",
      "source": [
        "#training the neural network\n",
        "print(\"Training neural network:\")\n",
        "def neural_network(X,y,learning_rate,epochs):\n",
        "  nx,nh,ny=shape(X,y)\n",
        "  costs=[]\n",
        "  iterations=[]\n",
        "  W1,W2=weights(nx,nh,ny)\n",
        "  for i in range(0,epochs):\n",
        "    a=learning_rate\n",
        "    yh,a2,z3,z2=forward(X,W1,W2)\n",
        "    j=cost(yh,y,a2)\n",
        "    costs.append(j)\n",
        "    iterations.append(i)\n",
        "    dW1,dW2=cost_prime(yh,X,y,a2,z3,z2,W2)\n",
        "    W1,W2=update_features(W1,W2,dW1,dW2,a)\n",
        "    if (i%1000==0):\n",
        "      print(\"Cost at \",i,\"th iteration is:\",j)\n",
        "    if (i==epochs-1):\n",
        "      return yh,costs,iterations\n",
        "train_yh,train_costs,train_iterations=neural_network(train_X,train_y,5,10000)"
      ],
      "metadata": {
        "colab": {
          "base_uri": "https://localhost:8080/"
        },
        "id": "sI62x1WUydwA",
        "outputId": "fd79995b-eb2f-4531-c698-e3d3a0047c22"
      },
      "execution_count": 56,
      "outputs": [
        {
          "output_type": "stream",
          "name": "stdout",
          "text": [
            "Training neural network:\n",
            "Cost at  0 th iteration is: 0.24635961594295272\n",
            "Cost at  1000 th iteration is: 0.00015679542365505677\n",
            "Cost at  2000 th iteration is: 2.640646193950316e-05\n",
            "Cost at  3000 th iteration is: 5.647760478391324e-06\n",
            "Cost at  4000 th iteration is: 1.3192747085925683e-06\n",
            "Cost at  5000 th iteration is: 3.203291703330874e-07\n",
            "Cost at  6000 th iteration is: 7.921133761714029e-08\n",
            "Cost at  7000 th iteration is: 1.976249634189589e-08\n",
            "Cost at  8000 th iteration is: 4.9523009672192784e-09\n",
            "Cost at  9000 th iteration is: 1.243724223933567e-09\n"
          ]
        }
      ]
    },
    {
      "cell_type": "code",
      "source": [
        "#testing the neural network\n",
        "print(\"Testing neural network:\")\n",
        "test_X = np.array(([3,5], [5,5], [10,0]), dtype=float)\n",
        "test_X=test_X/np.amax(test_X,axis=0)\n",
        "test_y = np.array(([.75], [.50], [1.0]), dtype=float)\n",
        "test_yh,test_costs,test_iterations=neural_network(test_X,test_y,5,10000)"
      ],
      "metadata": {
        "colab": {
          "base_uri": "https://localhost:8080/"
        },
        "id": "ObctroH_49eg",
        "outputId": "e71e5eaf-fdfe-4e5f-a19a-614ae646806e"
      },
      "execution_count": 57,
      "outputs": [
        {
          "output_type": "stream",
          "name": "stdout",
          "text": [
            "Testing neural network:\n",
            "Cost at  0 th iteration is: 0.7130201996209038\n",
            "Cost at  1000 th iteration is: 0.0003067999990861136\n",
            "Cost at  2000 th iteration is: 3.4825063662112006e-05\n",
            "Cost at  3000 th iteration is: 1.8729515155176543e-05\n",
            "Cost at  4000 th iteration is: 1.2876256529770552e-05\n",
            "Cost at  5000 th iteration is: 9.835310521359024e-06\n",
            "Cost at  6000 th iteration is: 7.96805810474687e-06\n",
            "Cost at  7000 th iteration is: 6.703091274702373e-06\n",
            "Cost at  8000 th iteration is: 5.7885901870872165e-06\n",
            "Cost at  9000 th iteration is: 5.096148268322149e-06\n"
          ]
        }
      ]
    },
    {
      "cell_type": "code",
      "source": [
        "import matplotlib.pyplot as plt\n",
        "plt.title(\"Visual data of costs during training:\")\n",
        "plot_train_x=np.array(train_iterations)\n",
        "plot_train_y=np.array(train_costs)*1000000\n",
        "plt.plot(plot_train_x,plot_train_y)\n",
        "plt.show()"
      ],
      "metadata": {
        "colab": {
          "base_uri": "https://localhost:8080/",
          "height": 281
        },
        "id": "6o8DRF6LCxCD",
        "outputId": "a4289abc-3005-43b1-e51f-66aebc366c61"
      },
      "execution_count": 58,
      "outputs": [
        {
          "output_type": "display_data",
          "data": {
            "text/plain": [
              "<Figure size 432x288 with 1 Axes>"
            ],
            "image/png": "[encoded data removed]"
          },
          "metadata": {
            "needs_background": "light"
          }
        }
      ]
    },
    {
      "cell_type": "code",
      "source": [
        "print(\"Visual data of costs during testing:\")\n",
        "plot_test_x=np.array(test_iterations)\n",
        "plot_test_y=np.array(test_costs)*1000000000\n",
        "plt.plot(plot_test_x,plot_test_y)\n",
        "plt.show()"
      ],
      "metadata": {
        "colab": {
          "base_uri": "https://localhost:8080/",
          "height": 294
        },
        "id": "zNFtqWJ-FEvh",
        "outputId": "91530f60-4b21-465c-e812-418e4a2f5669"
      },
      "execution_count": 59,
      "outputs": [
        {
          "output_type": "stream",
          "name": "stdout",
          "text": [
            "Visual data of costs during testing:\n"
          ]
        },
        {
          "output_type": "display_data",
          "data": {
            "text/plain": [
              "<Figure size 432x288 with 1 Axes>"
            ],
            "image/png": "[encoded data removed]"
          },
          "metadata": {
            "needs_background": "light"
          }
        }
      ]
    },
    {
      "cell_type": "markdown",
      "source": [
        "We are able to see how the cost decreases rapidly in the intial iterations and how it attains a constant value in the later iterations"
      ],
      "metadata": {
        "id": "RM-JU55tK1_a"
      }
    },
    {
      "cell_type": "code",
      "source": [
        "#comparing between the predicted value and target value in training set\n",
        "plt.title('Training data prediction visual')\n",
        "plt.plot(train_X,train_yh,'bs',train_X,train_y,'g^')\n",
        "plt.show()"
      ],
      "metadata": {
        "colab": {
          "base_uri": "https://localhost:8080/",
          "height": 281
        },
        "id": "hHK52fXkGPPY",
        "outputId": "1b5b1d1c-6c18-4da2-e44e-e0dd2f183f83"
      },
      "execution_count": 60,
      "outputs": [
        {
          "output_type": "display_data",
          "data": {
            "text/plain": [
              "<Figure size 432x288 with 1 Axes>"
            ],
            "image/png": "[encoded data removed]"
          },
          "metadata": {
            "needs_background": "light"
          }
        }
      ]
    },
    {
      "cell_type": "code",
      "source": [
        "#comparing between the predicted value and target value in testing set\n",
        "plt.title('Testing data prediction visual')\n",
        "plt.plot(test_X,test_yh,'bs',test_X,test_y,'g^')\n",
        "plt.show()"
      ],
      "metadata": {
        "colab": {
          "base_uri": "https://localhost:8080/",
          "height": 281
        },
        "id": "_1OHDOlaHWe4",
        "outputId": "ea701c09-783a-45a0-cae7-3926fe5a334d"
      },
      "execution_count": 61,
      "outputs": [
        {
          "output_type": "display_data",
          "data": {
            "text/plain": [
              "<Figure size 432x288 with 1 Axes>"
            ],
            "image/png": "[encoded data removed]"
          },
          "metadata": {
            "needs_background": "light"
          }
        }
      ]
    },
    {
      "cell_type": "markdown",
      "source": [
        "Thus, the neural network is able to correctly predict the target value upto very close precision "
      ],
      "metadata": {
        "id": "XlvknyaKKfNT"
      }
    }
  ]
}